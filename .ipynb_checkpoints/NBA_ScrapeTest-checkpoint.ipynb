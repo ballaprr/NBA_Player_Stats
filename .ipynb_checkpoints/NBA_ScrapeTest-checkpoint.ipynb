{
 "cells": [
  {
   "cell_type": "code",
   "execution_count": null,
   "id": "58e7e490",
   "metadata": {},
   "outputs": [],
   "source": [
    "import requests\n",
    "import pandas as pd\n",
    "from difflib import get_close_matches\n",
    "import json"
   ]
  },
  {
   "cell_type": "code",
   "execution_count": null,
   "id": "2e2ef244",
   "metadata": {},
   "outputs": [],
   "source": [
    "season_id = '2020-21'\n",
    "per_mode = 'Totals'"
   ]
  },
  {
   "cell_type": "code",
   "execution_count": null,
   "id": "ef66bfd9",
   "metadata": {},
   "outputs": [],
   "source": [
    "#player_info_url = 'https://stats.nba.com/stats/leagueLeaders?LeagueID=00&PerMode=PerGame&Scope=S&Season='+season_id+'&SeasonType=Regular+Season&StatCategory='.format(season_id)\n",
    "player_info_url = 'https://stats.nba.com/stats/leaguedashplayerstats?College=&Conference=&Country=&DateFrom=&DateTo=&Division=&DraftPick=&DraftYear=&GameScope=&GameSegment=&Height=&LastNGames=0&LeagueID=00&Location=&MeasureType=Base&Month=0&OpponentTeamID=0&Outcome=&PORound=0&PaceAdjust=N&PerMode=PerGame&Period=0&PlayerExperience=&PlayerPosition=&PlusMinus=N&Rank=N&Season='+season_id+'&SeasonSegment=&SeasonType=Regular+Season&ShotClockRange=&StarterBench=&TeamID=0&TwoWay=0&VsConference=&VsDivision=&Weight='.format(season_id)"
   ]
  },
  {
   "cell_type": "code",
   "execution_count": null,
   "id": "c1fa8914",
   "metadata": {},
   "outputs": [],
   "source": [
    "headers  = {\n",
    "    'Connection': 'keep-alive',\n",
    "    'Accept': 'application/json, text/plain, */*',\n",
    "    'x-nba-stats-token': 'true',\n",
    "    'User-Agent': 'Mozilla/5.0 (Macintosh; Intel Mac OS X 10_14_6) AppleWebKit/537.36 (KHTML, like Gecko) Chrome/79.0.3945.130 Safari/537.36',\n",
    "    'x-nba-stats-origin': 'stats',\n",
    "    'Sec-Fetch-Site': 'same-origin',\n",
    "    'Sec-Fetch-Mode': 'cors',\n",
    "    'Referer': 'https://stats.nba.com/',\n",
    "    'Accept-Encoding': 'gzip, deflate, br',\n",
    "    'Accept-Language': 'en-US,en;q=0.9',\n",
    "}"
   ]
  },
  {
   "cell_type": "code",
   "execution_count": null,
   "id": "a4b72f5c",
   "metadata": {},
   "outputs": [],
   "source": [
    "response = requests.get(url=player_info_url, headers=headers).json()\n",
    "response"
   ]
  },
  {
   "cell_type": "code",
   "execution_count": null,
   "id": "48ed96e9",
   "metadata": {},
   "outputs": [],
   "source": []
  },
  {
   "cell_type": "code",
   "execution_count": null,
   "id": "841f18e8",
   "metadata": {},
   "outputs": [],
   "source": [
    "player_info = response['resultSets'][0]['rowSet']"
   ]
  },
  {
   "cell_type": "code",
   "execution_count": null,
   "id": "90b4d8bd",
   "metadata": {},
   "outputs": [],
   "source": [
    "column_headers = [\n",
    "    'player_id',\n",
    "    'player_name',\n",
    "    'player_firstname',\n",
    "    'team_id',\n",
    "    'team_abv',\n",
    "    'player_age',\n",
    "    'player_gamesplayed',\n",
    "    'player_gameswon',\n",
    "    'player_gameslost',\n",
    "    'unknown1',\n",
    "    'player_minutesplayed',\n",
    "    'player_FGmade',\n",
    "    'player_FGattemps',\n",
    "    'player_FG%',\n",
    "    'player_3PM',\n",
    "    'player_3PA',\n",
    "    'player_3P%',\n",
    "    'player_FTM',\n",
    "    'player_FTA',\n",
    "    'player_FT%',\n",
    "    'player_OREB',\n",
    "    'player_DREB',\n",
    "    'player_REB',\n",
    "    'player_Assists',\n",
    "    'player_TOV',\n",
    "    'player_STL',\n",
    "    'player_BLK',\n",
    "    'unkown2',\n",
    "    'player_PF',\n",
    "    'unkown3',\n",
    "    'player_PPG',\n",
    "    'player_+/-',\n",
    "    'player_FP',\n",
    "    'player_DD2',\n",
    "    'player_TD3',\n",
    "    'unknown4',\n",
    "    'unknown5',\n",
    "    'unknown6',\n",
    "    'unknown7',\n",
    "    'unknown8',\n",
    "    'unknown9',\n",
    "    'unknown10',\n",
    "    'unknown11',\n",
    "    'unknown12',\n",
    "    'unknown13',\n",
    "    'unknown14',\n",
    "    'unknown15',\n",
    "    'unknown16',\n",
    "    'unknown17',\n",
    "    'unknown18',\n",
    "    'unknown19',\n",
    "    'unknown20',\n",
    "    'unknown21',\n",
    "    'unknown22',\n",
    "    'unknown23',\n",
    "    'unknown24',\n",
    "    'unknown25',\n",
    "    'unknown26',\n",
    "    'unknown27',\n",
    "    'unknown28',\n",
    "    'unknown29',\n",
    "    'unknown30',\n",
    "    'unknown31',\n",
    "    'unknown32',\n",
    "    'unknown33',\n",
    "    'unknown34',\n",
    "]"
   ]
  },
  {
   "cell_type": "code",
   "execution_count": null,
   "id": "67e97743",
   "metadata": {},
   "outputs": [],
   "source": [
    "nba_df = pd.DataFrame(player_info, columns = column_headers)\n",
    "nba_df['player_namelower'] = nba_df['player_name'].str.lower()"
   ]
  },
  {
   "cell_type": "code",
   "execution_count": null,
   "id": "4580d475",
   "metadata": {},
   "outputs": [],
   "source": [
    "nba_df.head()"
   ]
  },
  {
   "cell_type": "code",
   "execution_count": null,
   "id": "24a082e8",
   "metadata": {},
   "outputs": [],
   "source": []
  },
  {
   "cell_type": "code",
   "execution_count": 243,
   "id": "ffd66611",
   "metadata": {},
   "outputs": [],
   "source": [
    "#nba_df.to_csv('NBAplyaer_1996-97.csv', index=True)"
   ]
  },
  {
   "cell_type": "code",
   "execution_count": null,
   "id": "bb43c801",
   "metadata": {},
   "outputs": [],
   "source": []
  }
 ],
 "metadata": {
  "kernelspec": {
   "display_name": "Python 3",
   "language": "python",
   "name": "python3"
  },
  "language_info": {
   "codemirror_mode": {
    "name": "ipython",
    "version": 3
   },
   "file_extension": ".py",
   "mimetype": "text/x-python",
   "name": "python",
   "nbconvert_exporter": "python",
   "pygments_lexer": "ipython3",
   "version": "3.8.8"
  }
 },
 "nbformat": 4,
 "nbformat_minor": 5
}
